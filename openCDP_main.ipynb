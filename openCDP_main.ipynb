{
 "cells": [
  {
   "cell_type": "code",
   "execution_count": null,
   "metadata": {},
   "outputs": [],
   "source": [
    "import weaviate\n",
    "import os\n",
    "import pandas as pd\n",
    "from dotenv import load_dotenv\n",
    "from datetime import datetime\n",
    "import pickle\n",
    "from skipgram import SkipGram\n",
    "import torch\n",
    "import numpy as np"
   ]
  },
  {
   "cell_type": "code",
   "execution_count": null,
   "metadata": {},
   "outputs": [],
   "source": [
    "# Load environment variables from .env file\n",
    "load_dotenv()\n",
    "\n",
    "# Get the file path from the environment variable\n",
    "file_path = os.getenv(\"PATH_TO_ORIGINAL_DATA\")\n",
    "model_path = os.getenv(\"PATH_TO_MODELS\")\n",
    "\n",
    "# define file names and paths\n",
    "dataset_file_name = \"2019-Oct.csv\"\n",
    "pkl_file_name= \"token_map.pkl\"\n",
    "model_file_name = \"finished_OpenCDPEmbedding.pt\"\n",
    "\n",
    "# define the dataset and model file paths\n",
    "dataset = file_path + dataset_file_name\n",
    "vocab_map_file = model_path + pkl_file_name\n",
    "embd_model_file = model_path + model_file_name"
   ]
  },
  {
   "cell_type": "code",
   "execution_count": null,
   "metadata": {},
   "outputs": [],
   "source": [
    "{\"product_id\": \"UInt32\", \"category_code\" : \"category\"}\n",
    "\n",
    "# Define the columns for the dataset\n",
    "columns = [\"product_id\", \"category_code\"]\n",
    "\n",
    "# Define the data types for each column\n",
    "dtype_mapping = {\n",
    "    \"product_id\": \"UInt32\",\n",
    "    \"category_code\" : \"category\",\n",
    "}\n",
    "\n",
    "# Define the context size for the SkipGram model\n",
    "context_size = 5"
   ]
  },
  {
   "cell_type": "code",
   "execution_count": null,
   "metadata": {},
   "outputs": [],
   "source": []
  }
 ],
 "metadata": {
  "kernelspec": {
   "display_name": ".venv",
   "language": "python",
   "name": "python3"
  },
  "language_info": {
   "name": "python",
   "version": "3.12.8"
  }
 },
 "nbformat": 4,
 "nbformat_minor": 2
}
