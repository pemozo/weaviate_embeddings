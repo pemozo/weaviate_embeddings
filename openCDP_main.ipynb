{
 "cells": [
  {
   "cell_type": "code",
   "execution_count": 32,
   "metadata": {},
   "outputs": [],
   "source": [
    "import weaviate\n",
    "import os\n",
    "import pandas as pd\n",
    "from dotenv import load_dotenv\n",
    "from datetime import datetime\n",
    "import pickle\n",
    "from skipgram import SkipGram\n",
    "import torch\n",
    "import numpy as np"
   ]
  },
  {
   "cell_type": "code",
   "execution_count": 33,
   "metadata": {},
   "outputs": [],
   "source": [
    "# Load environment variables from .env file\n",
    "load_dotenv()\n",
    "\n",
    "# Get the file path from the environment variable\n",
    "file_path = os.getenv(\"PATH_TO_ORIGINAL_DATA\")\n",
    "model_path = os.getenv(\"PATH_TO_MODELS\")\n",
    "\n",
    "# define file names and paths\n",
    "dataset_file_name = \"2019-Oct.csv\"\n",
    "pkl_file_name= \"token_map.pkl\"\n",
    "model_file_name = \"finished_OpenCDPEmbedding.pt\"\n",
    "\n",
    "# define the dataset and model file paths\n",
    "dataset = file_path + dataset_file_name\n",
    "vocab_map_file = model_path + pkl_file_name\n",
    "embd_model_file = model_path + model_file_name"
   ]
  },
  {
   "cell_type": "code",
   "execution_count": 34,
   "metadata": {},
   "outputs": [],
   "source": [
    "# Define the columns for the dataset\n",
    "columns = [\"event_type\", \"product_id\", \"category_code\"]\n",
    "\n",
    "# Define the data types for each column\n",
    "dtype_mapping = {\n",
    "    \"event_type\": \"category\",\n",
    "    \"product_id\": \"UInt32\",\n",
    "    \"category_code\" : \"category\",\n",
    "}\n",
    "\n",
    "# Define the context size for the SkipGram model\n",
    "context_size = 2"
   ]
  },
  {
   "cell_type": "code",
   "execution_count": null,
   "metadata": {},
   "outputs": [],
   "source": [
    "# Data Source: https://www.kaggle.com/datasets/mkechinov/ecommerce-behavior-data-from-multi-category-store?select=2019-Oct.csv\n",
    "# Load dataset\n",
    "\n",
    "df = pd.read_csv(dataset, usecols=columns, dtype=dtype_mapping,nrows=3000)\n",
    "\n",
    "print(df.head())"
   ]
  },
  {
   "cell_type": "code",
   "execution_count": null,
   "metadata": {},
   "outputs": [],
   "source": [
    "df['merged'] = df['event_type'].astype(str) + df['product_id'].astype(str)\n",
    "\n",
    "df['merged'].head()"
   ]
  },
  {
   "cell_type": "code",
   "execution_count": null,
   "metadata": {},
   "outputs": [],
   "source": [
    "# Load Embedding file to estimate the embedding dimension\n",
    "embed_model = torch.load(embd_model_file, map_location=torch.device(\"cpu\"))\n",
    "\n",
    "# Check embedding dim\n",
    "embedding_weights = embed_model[\"model\"][\"embedding.weight\"]\n",
    "embedding_dim = embedding_weights.shape[1]\n",
    "\n",
    "print(f\"Embedding-Dimension: {embedding_dim}\")"
   ]
  },
  {
   "cell_type": "code",
   "execution_count": 38,
   "metadata": {},
   "outputs": [],
   "source": [
    "# load vocabulary mapping from pickle file\n",
    "with open(vocab_map_file, \"rb\") as f:\n",
    "    vocab_mapping = pickle.load(f)"
   ]
  },
  {
   "cell_type": "code",
   "execution_count": null,
   "metadata": {},
   "outputs": [],
   "source": [
    "# create embedding\n",
    "embedding = SkipGram.create_from_checkpoint(embd_model_file, vocab_mapping, embedding_dim, context_size)"
   ]
  },
  {
   "cell_type": "code",
   "execution_count": 40,
   "metadata": {},
   "outputs": [],
   "source": [
    "# Vectorizes an item using a given model and actions map.\n",
    "def vectorize_item(item_id, model, vocab_map):\n",
    "    if item_id not in vocab_map:\n",
    "        return None  \n",
    "    index = vocab_map[item_id]\n",
    "    index_tensor = torch.tensor([index], dtype=torch.long)\n",
    "    with torch.no_grad():\n",
    "        vector = model.embed(index_tensor).squeeze().numpy()\n",
    "    return vector "
   ]
  },
  {
   "cell_type": "code",
   "execution_count": 41,
   "metadata": {},
   "outputs": [],
   "source": [
    "# vectorize all product_ids in the dataframe\n",
    "vectors = []\n",
    "for item_id in df[\"merged\"]:\n",
    "    vector = vectorize_item(item_id, embedding, vocab_mapping)\n",
    "    vectors.append(vector)\n",
    "\n",
    "df[\"vector\"] = vectors"
   ]
  },
  {
   "cell_type": "code",
   "execution_count": null,
   "metadata": {},
   "outputs": [],
   "source": [
    "df[df['vector'].notna()]"
   ]
  }
 ],
 "metadata": {
  "kernelspec": {
   "display_name": ".venv",
   "language": "python",
   "name": "python3"
  },
  "language_info": {
   "codemirror_mode": {
    "name": "ipython",
    "version": 3
   },
   "file_extension": ".py",
   "mimetype": "text/x-python",
   "name": "python",
   "nbconvert_exporter": "python",
   "pygments_lexer": "ipython3",
   "version": "3.12.8"
  }
 },
 "nbformat": 4,
 "nbformat_minor": 2
}
