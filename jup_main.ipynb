{
 "cells": [
  {
   "cell_type": "code",
   "execution_count": 4,
   "metadata": {},
   "outputs": [],
   "source": [
    "import weaviate\n",
    "import os\n",
    "import pandas as pd\n",
    "from dotenv import load_dotenv\n",
    "from datetime import datetime\n",
    "import pickle\n",
    "from skipgram import SkipGram\n",
    "import torch"
   ]
  },
  {
   "cell_type": "code",
   "execution_count": 5,
   "metadata": {},
   "outputs": [],
   "source": [
    "file_name = \"yoochoose-clicks.dat\"\n",
    "pkl_file_name= \"yoochoose_trigrams.pkl\"\n",
    "checkpoint_path = \"finished_embedding_YooChooseEmbedding.pt\"\n",
    "\n",
    "columns = [\"session_id\", \"ts\", \"item_id\", \"category_id\"]\n",
    "\n",
    "dtype_mapping = {\n",
    "    \"session_id\": \"UInt32\",\n",
    "    \"ts\": \"str\",\n",
    "    \"item_id\": \"UInt32\",\n",
    "    \"category_id\": \"category\"\n",
    "}\n",
    "\n",
    "context_size = 2"
   ]
  },
  {
   "cell_type": "code",
   "execution_count": null,
   "metadata": {},
   "outputs": [],
   "source": [
    "# # Load environment variables from .env file\n",
    "load_dotenv()"
   ]
  },
  {
   "cell_type": "code",
   "execution_count": 7,
   "metadata": {},
   "outputs": [],
   "source": [
    "# # Get the file path from the environment variable\n",
    "file_path = os.getenv(\"PATH_TO_ORIGINAL_DATA\")\n",
    "model_path = os.getenv(\"PATH_TO_MODELS\")"
   ]
  },
  {
   "cell_type": "code",
   "execution_count": null,
   "metadata": {},
   "outputs": [],
   "source": [
    "# Load checkpoint\n",
    "checkpoint = torch.load(model_path + checkpoint_path, map_location=torch.device(\"cpu\"))\n",
    "\n",
    "# Check embedding dim\n",
    "embedding_weights = checkpoint[\"model\"][\"embedding.weight\"]\n",
    "embedding_dim = embedding_weights.shape[1]\n",
    "\n",
    "print(f\"Embedding-Dimension: {embedding_dim}\")"
   ]
  },
  {
   "cell_type": "code",
   "execution_count": null,
   "metadata": {},
   "outputs": [],
   "source": [
    "# Load the data\n",
    "# Data Source: https://www.kaggle.com/datasets/chadgostopp/recsys-challenge-2015\n",
    "data = pd.read_csv(file_path + file_name, names=columns, dtype=dtype_mapping)\n",
    "\n",
    "print(data.head())"
   ]
  },
  {
   "cell_type": "code",
   "execution_count": 10,
   "metadata": {},
   "outputs": [],
   "source": [
    "# transform to timestamp (in seconds)\n",
    "data.ts = data.ts.apply(lambda x: int(datetime.strptime(x, '%Y-%m-%dT%H:%M:%S.%fZ').timestamp()))\n",
    "data.sort_values(by=\"ts\", inplace=True)"
   ]
  },
  {
   "cell_type": "code",
   "execution_count": 11,
   "metadata": {},
   "outputs": [],
   "source": [
    "#load vocabulary mapping from pickle file\n",
    "with open(model_path + pkl_file_name, \"rb\") as f:\n",
    "    pkl_model = pickle.load(f)"
   ]
  },
  {
   "cell_type": "code",
   "execution_count": null,
   "metadata": {},
   "outputs": [],
   "source": [
    "print(pkl_model.keys())"
   ]
  },
  {
   "cell_type": "code",
   "execution_count": 13,
   "metadata": {},
   "outputs": [],
   "source": [
    "# Extract the action mapping\n",
    "if \"actions_map\" in pkl_model:\n",
    "    action_mapping = pkl_model[\"actions_map\"]\n",
    "    #print(\"Action Mapping:\", action_mapping)\n",
    "else:\n",
    "    print(\"Action Mapping not found.\")"
   ]
  },
  {
   "cell_type": "code",
   "execution_count": null,
   "metadata": {},
   "outputs": [],
   "source": [
    "\n",
    "embedding = SkipGram.create_from_checkpoint(model_path + checkpoint_path, action_mapping, embedding_dim, context_size)"
   ]
  },
  {
   "cell_type": "code",
   "execution_count": null,
   "metadata": {},
   "outputs": [],
   "source": [
    "print(len(action_mapping))"
   ]
  },
  {
   "cell_type": "code",
   "execution_count": null,
   "metadata": {},
   "outputs": [],
   "source": [
    "# Print the first 5 values of action_mapping\n",
    "first_5_action_mapping = dict(list(action_mapping.items())[:5])\n",
    "print(first_5_action_mapping)"
   ]
  },
  {
   "cell_type": "code",
   "execution_count": 22,
   "metadata": {},
   "outputs": [],
   "source": [
    "def vectorize_item(item_id, model, actions_map):\n",
    "    \"\"\"\n",
    "    Vektorisiere eine item_id, basierend auf dem Modell und der actions_map.\n",
    "    \"\"\"\n",
    "    if item_id not in actions_map:\n",
    "        return None  # Keine Vektoren für unbekannte IDs\n",
    "    index = actions_map[item_id]\n",
    "    index_tensor = torch.tensor([index], dtype=torch.long)\n",
    "    with torch.no_grad():\n",
    "        vector = model.embed(index_tensor).squeeze().numpy()\n",
    "    return vector  # Nur den Vektor zurückgeben"
   ]
  },
  {
   "cell_type": "code",
   "execution_count": 27,
   "metadata": {},
   "outputs": [],
   "source": [
    "sampled_data = data.sample(frac=0.1, random_state=42)"
   ]
  },
  {
   "cell_type": "code",
   "execution_count": 28,
   "metadata": {},
   "outputs": [],
   "source": [
    "# Vektoren generieren\n",
    "vectors = []\n",
    "for item_id in sampled_data[\"item_id\"]:\n",
    "    vector = vectorize_item(item_id, embedding, action_mapping)\n",
    "    vectors.append(vector)\n",
    "\n",
    "sampled_data[\"vector\"] = vectors"
   ]
  },
  {
   "cell_type": "code",
   "execution_count": null,
   "metadata": {},
   "outputs": [],
   "source": [
    "print(sampled_data['vector'].head())"
   ]
  },
  {
   "cell_type": "code",
   "execution_count": null,
   "metadata": {},
   "outputs": [],
   "source": [
    "print(sampled_data['vector'].iloc[1])  # Display the first row's vector"
   ]
  },
  {
   "cell_type": "code",
   "execution_count": null,
   "metadata": {},
   "outputs": [],
   "source": [
    "new_df = sampled_data[['item_id', 'vector']].copy()\n",
    "print(new_df.head())"
   ]
  }
 ],
 "metadata": {
  "kernelspec": {
   "display_name": ".venv",
   "language": "python",
   "name": "python3"
  },
  "language_info": {
   "codemirror_mode": {
    "name": "ipython",
    "version": 3
   },
   "file_extension": ".py",
   "mimetype": "text/x-python",
   "name": "python",
   "nbconvert_exporter": "python",
   "pygments_lexer": "ipython3",
   "version": "3.12.8"
  }
 },
 "nbformat": 4,
 "nbformat_minor": 2
}
